{
  "nbformat": 4,
  "nbformat_minor": 0,
  "metadata": {
    "colab": {
      "provenance": []
    },
    "kernelspec": {
      "name": "python3",
      "display_name": "Python 3"
    },
    "language_info": {
      "name": "python"
    }
  },
  "cells": [
    {
      "cell_type": "code",
      "execution_count": 1,
      "metadata": {
        "id": "-UQo_NK6mIzF"
      },
      "outputs": [],
      "source": [
        "import requests"
      ]
    },
    {
      "cell_type": "code",
      "source": [
        "url = 'https://jsonplaceholder.typicode.com/posts'"
      ],
      "metadata": {
        "id": "3LNHJ4ChmLMa"
      },
      "execution_count": 2,
      "outputs": []
    },
    {
      "cell_type": "code",
      "source": [
        "res = requests.get(url)"
      ],
      "metadata": {
        "id": "0wMX_iV8mZ8m"
      },
      "execution_count": 3,
      "outputs": []
    },
    {
      "cell_type": "code",
      "source": [
        "res.status_code"
      ],
      "metadata": {
        "colab": {
          "base_uri": "https://localhost:8080/"
        },
        "id": "Z2DImvonmdUf",
        "outputId": "3afe510e-f5fc-4cbf-d322-af66a975753a"
      },
      "execution_count": 4,
      "outputs": [
        {
          "output_type": "execute_result",
          "data": {
            "text/plain": [
              "200"
            ]
          },
          "metadata": {},
          "execution_count": 4
        }
      ]
    },
    {
      "cell_type": "code",
      "source": [
        "datum = res.json()[0]\n",
        "datum"
      ],
      "metadata": {
        "colab": {
          "base_uri": "https://localhost:8080/"
        },
        "id": "e00YLPwzmgXO",
        "outputId": "476388a0-f92c-4798-ad1e-8ec5cff14bea"
      },
      "execution_count": 7,
      "outputs": [
        {
          "output_type": "execute_result",
          "data": {
            "text/plain": [
              "{'userId': 1,\n",
              " 'id': 1,\n",
              " 'title': 'sunt aut facere repellat provident occaecati excepturi optio reprehenderit',\n",
              " 'body': 'quia et suscipit\\nsuscipit recusandae consequuntur expedita et cum\\nreprehenderit molestiae ut ut quas totam\\nnostrum rerum est autem sunt rem eveniet architecto'}"
            ]
          },
          "metadata": {},
          "execution_count": 7
        }
      ]
    },
    {
      "cell_type": "code",
      "source": [
        "datum['body']"
      ],
      "metadata": {
        "colab": {
          "base_uri": "https://localhost:8080/",
          "height": 35
        },
        "id": "FFc67Po9miC9",
        "outputId": "aa19eebf-3754-4597-cdcd-5ab968d07b10"
      },
      "execution_count": 8,
      "outputs": [
        {
          "output_type": "execute_result",
          "data": {
            "text/plain": [
              "'quia et suscipit\\nsuscipit recusandae consequuntur expedita et cum\\nreprehenderit molestiae ut ut quas totam\\nnostrum rerum est autem sunt rem eveniet architecto'"
            ],
            "application/vnd.google.colaboratory.intrinsic+json": {
              "type": "string"
            }
          },
          "metadata": {},
          "execution_count": 8
        }
      ]
    },
    {
      "cell_type": "code",
      "source": [
        "url = 'https://jsonplaceholder.typicode.com/posts'\n",
        "\n",
        "params = {\n",
        "    'userId' : 1\n",
        "}\n",
        "\n",
        "res = requests.get(url, params=params)\n",
        "res.status_code"
      ],
      "metadata": {
        "colab": {
          "base_uri": "https://localhost:8080/"
        },
        "id": "nLLBsON4muWU",
        "outputId": "ad7daabd-bd94-4a8b-9435-b333bc6008d7"
      },
      "execution_count": 13,
      "outputs": [
        {
          "output_type": "execute_result",
          "data": {
            "text/plain": [
              "200"
            ]
          },
          "metadata": {},
          "execution_count": 13
        }
      ]
    },
    {
      "cell_type": "code",
      "source": [
        "res.json()"
      ],
      "metadata": {
        "colab": {
          "base_uri": "https://localhost:8080/"
        },
        "id": "wkbKaYYHm0QD",
        "outputId": "995b7df8-0512-421f-ec0e-e31df890be01"
      },
      "execution_count": 14,
      "outputs": [
        {
          "output_type": "execute_result",
          "data": {
            "text/plain": [
              "[{'userId': 1,\n",
              "  'id': 1,\n",
              "  'title': 'sunt aut facere repellat provident occaecati excepturi optio reprehenderit',\n",
              "  'body': 'quia et suscipit\\nsuscipit recusandae consequuntur expedita et cum\\nreprehenderit molestiae ut ut quas totam\\nnostrum rerum est autem sunt rem eveniet architecto'},\n",
              " {'userId': 1,\n",
              "  'id': 2,\n",
              "  'title': 'qui est esse',\n",
              "  'body': 'est rerum tempore vitae\\nsequi sint nihil reprehenderit dolor beatae ea dolores neque\\nfugiat blanditiis voluptate porro vel nihil molestiae ut reiciendis\\nqui aperiam non debitis possimus qui neque nisi nulla'},\n",
              " {'userId': 1,\n",
              "  'id': 3,\n",
              "  'title': 'ea molestias quasi exercitationem repellat qui ipsa sit aut',\n",
              "  'body': 'et iusto sed quo iure\\nvoluptatem occaecati omnis eligendi aut ad\\nvoluptatem doloribus vel accusantium quis pariatur\\nmolestiae porro eius odio et labore et velit aut'},\n",
              " {'userId': 1,\n",
              "  'id': 4,\n",
              "  'title': 'eum et est occaecati',\n",
              "  'body': 'ullam et saepe reiciendis voluptatem adipisci\\nsit amet autem assumenda provident rerum culpa\\nquis hic commodi nesciunt rem tenetur doloremque ipsam iure\\nquis sunt voluptatem rerum illo velit'},\n",
              " {'userId': 1,\n",
              "  'id': 5,\n",
              "  'title': 'nesciunt quas odio',\n",
              "  'body': 'repudiandae veniam quaerat sunt sed\\nalias aut fugiat sit autem sed est\\nvoluptatem omnis possimus esse voluptatibus quis\\nest aut tenetur dolor neque'},\n",
              " {'userId': 1,\n",
              "  'id': 6,\n",
              "  'title': 'dolorem eum magni eos aperiam quia',\n",
              "  'body': 'ut aspernatur corporis harum nihil quis provident sequi\\nmollitia nobis aliquid molestiae\\nperspiciatis et ea nemo ab reprehenderit accusantium quas\\nvoluptate dolores velit et doloremque molestiae'},\n",
              " {'userId': 1,\n",
              "  'id': 7,\n",
              "  'title': 'magnam facilis autem',\n",
              "  'body': 'dolore placeat quibusdam ea quo vitae\\nmagni quis enim qui quis quo nemo aut saepe\\nquidem repellat excepturi ut quia\\nsunt ut sequi eos ea sed quas'},\n",
              " {'userId': 1,\n",
              "  'id': 8,\n",
              "  'title': 'dolorem dolore est ipsam',\n",
              "  'body': 'dignissimos aperiam dolorem qui eum\\nfacilis quibusdam animi sint suscipit qui sint possimus cum\\nquaerat magni maiores excepturi\\nipsam ut commodi dolor voluptatum modi aut vitae'},\n",
              " {'userId': 1,\n",
              "  'id': 9,\n",
              "  'title': 'nesciunt iure omnis dolorem tempora et accusantium',\n",
              "  'body': 'consectetur animi nesciunt iure dolore\\nenim quia ad\\nveniam autem ut quam aut nobis\\net est aut quod aut provident voluptas autem voluptas'},\n",
              " {'userId': 1,\n",
              "  'id': 10,\n",
              "  'title': 'optio molestias id quia eum',\n",
              "  'body': 'quo et expedita modi cum officia vel magni\\ndoloribus qui repudiandae\\nvero nisi sit\\nquos veniam quod sed accusamus veritatis error'}]"
            ]
          },
          "metadata": {},
          "execution_count": 14
        }
      ]
    },
    {
      "cell_type": "code",
      "source": [
        "import requests\n",
        "url = 'https://app.rakuten.co.jp/services/api/Travel/KeywordHotelSearch/20170426'\n",
        "APP_ID = '1056082920461104102'"
      ],
      "metadata": {
        "id": "lMHacfQxm8u8"
      },
      "execution_count": 15,
      "outputs": []
    },
    {
      "cell_type": "code",
      "source": [
        "params = {\n",
        "    'applicationId' : APP_ID,\n",
        "    'keyword' : '金沢'\n",
        "}"
      ],
      "metadata": {
        "id": "-TW1_dN-pUi6"
      },
      "execution_count": 16,
      "outputs": []
    },
    {
      "cell_type": "code",
      "source": [
        "res = requests.get(url, params=params)\n",
        "res.status_code"
      ],
      "metadata": {
        "colab": {
          "base_uri": "https://localhost:8080/"
        },
        "id": "NhrN2l1JpcVX",
        "outputId": "085b0266-292b-49b2-d4fa-64cb092da8c7"
      },
      "execution_count": 17,
      "outputs": [
        {
          "output_type": "execute_result",
          "data": {
            "text/plain": [
              "200"
            ]
          },
          "metadata": {},
          "execution_count": 17
        }
      ]
    },
    {
      "cell_type": "code",
      "source": [
        "hotels = res.json()['hotels']\n",
        "hotel = hotels[0]['hotel'][0]['hotelBasicInfo']\n",
        "hotel"
      ],
      "metadata": {
        "colab": {
          "base_uri": "https://localhost:8080/"
        },
        "id": "q_4E4OZbpjrX",
        "outputId": "2553ad33-2ec2-4f63-d9e9-157e9a977703"
      },
      "execution_count": 24,
      "outputs": [
        {
          "output_type": "execute_result",
          "data": {
            "text/plain": [
              "{'hotelNo': 184275,\n",
              " 'hotelName': 'ＴＨＥ\\u3000ＨＯＴＥＬ\\u3000ＳＡＮＲＡＫＵ\\u3000ＫＡＮＡＺＡＷＡ（ザ\\u3000ホテル山楽\\u3000金沢）',\n",
              " 'hotelInformationUrl': 'https://img.travel.rakuten.co.jp/image/tr/api/kw/JBe8h/?f_no=184275',\n",
              " 'planListUrl': 'https://img.travel.rakuten.co.jp/image/tr/api/kw/3VTwt/?f_no=184275&f_flg=PLAN',\n",
              " 'dpPlanListUrl': 'https://img.travel.rakuten.co.jp/image/tr/api/kw/IWrzP/?noTomariHotel=184275',\n",
              " 'reviewUrl': 'https://img.travel.rakuten.co.jp/image/tr/api/kw/HTX0u/?f_hotel_no=184275',\n",
              " 'hotelKanaName': 'ざ\\u3000ほてるさんらく\\u3000かなざわ',\n",
              " 'hotelSpecial': '2022年12月21日開業！クラブラウンジや四季を彩る中庭を誇るラグジュアリーホテル',\n",
              " 'hotelMinCharge': 8900,\n",
              " 'latitude': 131642.67,\n",
              " 'longitude': 491983.84,\n",
              " 'postalCode': '920-0902',\n",
              " 'address1': '石川県',\n",
              " 'address2': '金沢市尾張町1丁目1番1号',\n",
              " 'telephoneNo': '076-222-8077',\n",
              " 'faxNo': '076-222-6277',\n",
              " 'access': 'JR金沢駅東口よりバスで約１０分「武蔵が辻・近江町市場」下車徒歩４分／近江町市場へ徒歩１分、金沢城公園へ徒歩３分',\n",
              " 'parkingInformation': '地下駐車場58台／1泊1台につき1,200円',\n",
              " 'nearestStation': '金沢',\n",
              " 'hotelImageUrl': 'https://img.travel.rakuten.co.jp/share/HOTEL/184275/184275.jpg',\n",
              " 'hotelThumbnailUrl': 'https://img.travel.rakuten.co.jp/HIMG/90/184275.jpg',\n",
              " 'roomImageUrl': None,\n",
              " 'roomThumbnailUrl': None,\n",
              " 'hotelMapImageUrl': 'https://img.travel.rakuten.co.jp/share/HOTEL/184275/184275map.gif',\n",
              " 'reviewCount': 467,\n",
              " 'reviewAverage': 4.62,\n",
              " 'userReview': '宿泊直前での予約した部屋の変更に丁寧に対応していただき希望通りの宿泊ができありがとうございました。近隣の食事どころの紹介や2歳の孫へのケアなどホスピタリティも含めて大変満足できる滞在でした。部…\\u30002025-10-08 18:28:14投稿 <a href=\"https://img.travel.rakuten.co.jp/image/tr/api/kw/HTX0u/?f_hotel_no=184275\" class=\"3click\">つづきはこちら</a>'}"
            ]
          },
          "metadata": {},
          "execution_count": 24
        }
      ]
    },
    {
      "cell_type": "code",
      "source": [
        "hotel['hotelName']"
      ],
      "metadata": {
        "colab": {
          "base_uri": "https://localhost:8080/",
          "height": 35
        },
        "id": "KSxm5bXRprmN",
        "outputId": "65412f48-8030-47c0-a7a5-5f36d6377a79"
      },
      "execution_count": 27,
      "outputs": [
        {
          "output_type": "execute_result",
          "data": {
            "text/plain": [
              "'ＴＨＥ\\u3000ＨＯＴＥＬ\\u3000ＳＡＮＲＡＫＵ\\u3000ＫＡＮＡＺＡＷＡ（ザ\\u3000ホテル山楽\\u3000金沢）'"
            ],
            "application/vnd.google.colaboratory.intrinsic+json": {
              "type": "string"
            }
          },
          "metadata": {},
          "execution_count": 27
        }
      ]
    },
    {
      "cell_type": "code",
      "source": [
        "hotel['access']"
      ],
      "metadata": {
        "colab": {
          "base_uri": "https://localhost:8080/",
          "height": 35
        },
        "id": "txUSiFEkqOA-",
        "outputId": "358ccc68-a339-402a-bfc9-f1640ee12e4d"
      },
      "execution_count": 28,
      "outputs": [
        {
          "output_type": "execute_result",
          "data": {
            "text/plain": [
              "'JR金沢駅東口よりバスで約１０分「武蔵が辻・近江町市場」下車徒歩４分／近江町市場へ徒歩１分、金沢城公園へ徒歩３分'"
            ],
            "application/vnd.google.colaboratory.intrinsic+json": {
              "type": "string"
            }
          },
          "metadata": {},
          "execution_count": 28
        }
      ]
    },
    {
      "cell_type": "code",
      "source": [
        "address = hotel['address1'] + hotel['address2']\n",
        "address"
      ],
      "metadata": {
        "colab": {
          "base_uri": "https://localhost:8080/",
          "height": 35
        },
        "id": "abILeKMrqWtT",
        "outputId": "79191d4d-7aae-4d9e-c603-10038caf05a0"
      },
      "execution_count": 29,
      "outputs": [
        {
          "output_type": "execute_result",
          "data": {
            "text/plain": [
              "'石川県金沢市尾張町1丁目1番1号'"
            ],
            "application/vnd.google.colaboratory.intrinsic+json": {
              "type": "string"
            }
          },
          "metadata": {},
          "execution_count": 29
        }
      ]
    },
    {
      "cell_type": "code",
      "source": [],
      "metadata": {
        "id": "4iIrJ2_dqbli"
      },
      "execution_count": null,
      "outputs": []
    }
  ]
}